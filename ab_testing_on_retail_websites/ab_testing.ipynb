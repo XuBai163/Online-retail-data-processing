{
 "cells": [
  {
   "cell_type": "code",
   "execution_count": 15,
   "id": "919e58d0",
   "metadata": {},
   "outputs": [],
   "source": [
    "import pandas as pd\n",
    "import numpy as np\n",
    "import seaborn as sns\n",
    "import scipy.stats as ss\n",
    "import matplotlib.pyplot as plt\n",
    "import scipy.stats as stats\n",
    "import statsmodels.api as sm\n",
    "from statsmodels.stats.proportion import proportions_ztest, proportion_confint"
   ]
  },
  {
   "cell_type": "code",
   "execution_count": 2,
   "id": "0e62f317",
   "metadata": {},
   "outputs": [],
   "source": [
    "# load data \n",
    "data = pd.read_csv(\"data_abtest.csv\")"
   ]
  },
  {
   "cell_type": "code",
   "execution_count": 3,
   "id": "7052ba9c",
   "metadata": {},
   "outputs": [
    {
     "data": {
      "text/html": [
       "<div>\n",
       "<style scoped>\n",
       "    .dataframe tbody tr th:only-of-type {\n",
       "        vertical-align: middle;\n",
       "    }\n",
       "\n",
       "    .dataframe tbody tr th {\n",
       "        vertical-align: top;\n",
       "    }\n",
       "\n",
       "    .dataframe thead th {\n",
       "        text-align: right;\n",
       "    }\n",
       "</style>\n",
       "<table border=\"1\" class=\"dataframe\">\n",
       "  <thead>\n",
       "    <tr style=\"text-align: right;\">\n",
       "      <th></th>\n",
       "      <th>Unnamed: 0</th>\n",
       "      <th>user_id</th>\n",
       "      <th>timestamp</th>\n",
       "      <th>group</th>\n",
       "      <th>landing_page</th>\n",
       "      <th>converted</th>\n",
       "    </tr>\n",
       "  </thead>\n",
       "  <tbody>\n",
       "    <tr>\n",
       "      <th>0</th>\n",
       "      <td>0</td>\n",
       "      <td>851104</td>\n",
       "      <td>2021-10-21 22:11:48.556739</td>\n",
       "      <td>control</td>\n",
       "      <td>old_page</td>\n",
       "      <td>0</td>\n",
       "    </tr>\n",
       "    <tr>\n",
       "      <th>1</th>\n",
       "      <td>1</td>\n",
       "      <td>804228</td>\n",
       "      <td>2021-10-12 08:01:45.159739</td>\n",
       "      <td>control</td>\n",
       "      <td>old_page</td>\n",
       "      <td>0</td>\n",
       "    </tr>\n",
       "    <tr>\n",
       "      <th>2</th>\n",
       "      <td>2</td>\n",
       "      <td>661590</td>\n",
       "      <td>2021-10-11 16:55:06.154213</td>\n",
       "      <td>treatment</td>\n",
       "      <td>new_page</td>\n",
       "      <td>0</td>\n",
       "    </tr>\n",
       "    <tr>\n",
       "      <th>3</th>\n",
       "      <td>3</td>\n",
       "      <td>853541</td>\n",
       "      <td>2021-10-08 18:28:03.143765</td>\n",
       "      <td>treatment</td>\n",
       "      <td>new_page</td>\n",
       "      <td>0</td>\n",
       "    </tr>\n",
       "    <tr>\n",
       "      <th>4</th>\n",
       "      <td>4</td>\n",
       "      <td>864975</td>\n",
       "      <td>2021-10-21 01:52:26.210827</td>\n",
       "      <td>control</td>\n",
       "      <td>old_page</td>\n",
       "      <td>1</td>\n",
       "    </tr>\n",
       "  </tbody>\n",
       "</table>\n",
       "</div>"
      ],
      "text/plain": [
       "   Unnamed: 0  user_id                   timestamp      group landing_page  \\\n",
       "0           0   851104  2021-10-21 22:11:48.556739    control     old_page   \n",
       "1           1   804228  2021-10-12 08:01:45.159739    control     old_page   \n",
       "2           2   661590  2021-10-11 16:55:06.154213  treatment     new_page   \n",
       "3           3   853541  2021-10-08 18:28:03.143765  treatment     new_page   \n",
       "4           4   864975  2021-10-21 01:52:26.210827    control     old_page   \n",
       "\n",
       "   converted  \n",
       "0          0  \n",
       "1          0  \n",
       "2          0  \n",
       "3          0  \n",
       "4          1  "
      ]
     },
     "execution_count": 3,
     "metadata": {},
     "output_type": "execute_result"
    }
   ],
   "source": [
    "data.head()"
   ]
  },
  {
   "cell_type": "code",
   "execution_count": 4,
   "id": "e5ad7a2f",
   "metadata": {},
   "outputs": [
    {
     "data": {
      "text/html": [
       "<div>\n",
       "<style scoped>\n",
       "    .dataframe tbody tr th:only-of-type {\n",
       "        vertical-align: middle;\n",
       "    }\n",
       "\n",
       "    .dataframe tbody tr th {\n",
       "        vertical-align: top;\n",
       "    }\n",
       "\n",
       "    .dataframe thead th {\n",
       "        text-align: right;\n",
       "    }\n",
       "</style>\n",
       "<table border=\"1\" class=\"dataframe\">\n",
       "  <thead>\n",
       "    <tr style=\"text-align: right;\">\n",
       "      <th></th>\n",
       "      <th>user_id</th>\n",
       "      <th>timestamp</th>\n",
       "      <th>group</th>\n",
       "      <th>landing_page</th>\n",
       "      <th>converted</th>\n",
       "    </tr>\n",
       "  </thead>\n",
       "  <tbody>\n",
       "    <tr>\n",
       "      <th>0</th>\n",
       "      <td>851104</td>\n",
       "      <td>2021-10-21 22:11:48.556739</td>\n",
       "      <td>control</td>\n",
       "      <td>old_page</td>\n",
       "      <td>0</td>\n",
       "    </tr>\n",
       "    <tr>\n",
       "      <th>1</th>\n",
       "      <td>804228</td>\n",
       "      <td>2021-10-12 08:01:45.159739</td>\n",
       "      <td>control</td>\n",
       "      <td>old_page</td>\n",
       "      <td>0</td>\n",
       "    </tr>\n",
       "    <tr>\n",
       "      <th>2</th>\n",
       "      <td>661590</td>\n",
       "      <td>2021-10-11 16:55:06.154213</td>\n",
       "      <td>treatment</td>\n",
       "      <td>new_page</td>\n",
       "      <td>0</td>\n",
       "    </tr>\n",
       "    <tr>\n",
       "      <th>3</th>\n",
       "      <td>853541</td>\n",
       "      <td>2021-10-08 18:28:03.143765</td>\n",
       "      <td>treatment</td>\n",
       "      <td>new_page</td>\n",
       "      <td>0</td>\n",
       "    </tr>\n",
       "    <tr>\n",
       "      <th>4</th>\n",
       "      <td>864975</td>\n",
       "      <td>2021-10-21 01:52:26.210827</td>\n",
       "      <td>control</td>\n",
       "      <td>old_page</td>\n",
       "      <td>1</td>\n",
       "    </tr>\n",
       "    <tr>\n",
       "      <th>...</th>\n",
       "      <td>...</td>\n",
       "      <td>...</td>\n",
       "      <td>...</td>\n",
       "      <td>...</td>\n",
       "      <td>...</td>\n",
       "    </tr>\n",
       "    <tr>\n",
       "      <th>294473</th>\n",
       "      <td>751197</td>\n",
       "      <td>2021-10-03 22:28:38.630509</td>\n",
       "      <td>control</td>\n",
       "      <td>old_page</td>\n",
       "      <td>0</td>\n",
       "    </tr>\n",
       "    <tr>\n",
       "      <th>294474</th>\n",
       "      <td>945152</td>\n",
       "      <td>2021-10-12 00:51:57.078372</td>\n",
       "      <td>control</td>\n",
       "      <td>old_page</td>\n",
       "      <td>0</td>\n",
       "    </tr>\n",
       "    <tr>\n",
       "      <th>294475</th>\n",
       "      <td>734608</td>\n",
       "      <td>2021-10-22 11:45:03.439544</td>\n",
       "      <td>control</td>\n",
       "      <td>old_page</td>\n",
       "      <td>0</td>\n",
       "    </tr>\n",
       "    <tr>\n",
       "      <th>294476</th>\n",
       "      <td>697314</td>\n",
       "      <td>2021-10-15 01:20:28.957438</td>\n",
       "      <td>control</td>\n",
       "      <td>old_page</td>\n",
       "      <td>0</td>\n",
       "    </tr>\n",
       "    <tr>\n",
       "      <th>294477</th>\n",
       "      <td>715931</td>\n",
       "      <td>2021-10-16 12:40:24.467417</td>\n",
       "      <td>treatment</td>\n",
       "      <td>new_page</td>\n",
       "      <td>1</td>\n",
       "    </tr>\n",
       "  </tbody>\n",
       "</table>\n",
       "<p>294478 rows × 5 columns</p>\n",
       "</div>"
      ],
      "text/plain": [
       "        user_id                   timestamp      group landing_page  converted\n",
       "0        851104  2021-10-21 22:11:48.556739    control     old_page          0\n",
       "1        804228  2021-10-12 08:01:45.159739    control     old_page          0\n",
       "2        661590  2021-10-11 16:55:06.154213  treatment     new_page          0\n",
       "3        853541  2021-10-08 18:28:03.143765  treatment     new_page          0\n",
       "4        864975  2021-10-21 01:52:26.210827    control     old_page          1\n",
       "...         ...                         ...        ...          ...        ...\n",
       "294473   751197  2021-10-03 22:28:38.630509    control     old_page          0\n",
       "294474   945152  2021-10-12 00:51:57.078372    control     old_page          0\n",
       "294475   734608  2021-10-22 11:45:03.439544    control     old_page          0\n",
       "294476   697314  2021-10-15 01:20:28.957438    control     old_page          0\n",
       "294477   715931  2021-10-16 12:40:24.467417  treatment     new_page          1\n",
       "\n",
       "[294478 rows x 5 columns]"
      ]
     },
     "execution_count": 4,
     "metadata": {},
     "output_type": "execute_result"
    }
   ],
   "source": [
    "data.drop([\"Unnamed: 0\"], axis=1)"
   ]
  },
  {
   "cell_type": "code",
   "execution_count": 5,
   "id": "cf821b3b",
   "metadata": {},
   "outputs": [
    {
     "data": {
      "text/html": [
       "<div>\n",
       "<style scoped>\n",
       "    .dataframe tbody tr th:only-of-type {\n",
       "        vertical-align: middle;\n",
       "    }\n",
       "\n",
       "    .dataframe tbody tr th {\n",
       "        vertical-align: top;\n",
       "    }\n",
       "\n",
       "    .dataframe thead th {\n",
       "        text-align: right;\n",
       "    }\n",
       "</style>\n",
       "<table border=\"1\" class=\"dataframe\">\n",
       "  <thead>\n",
       "    <tr style=\"text-align: right;\">\n",
       "      <th>landing_page</th>\n",
       "      <th>new_page</th>\n",
       "      <th>old_page</th>\n",
       "    </tr>\n",
       "    <tr>\n",
       "      <th>group</th>\n",
       "      <th></th>\n",
       "      <th></th>\n",
       "    </tr>\n",
       "  </thead>\n",
       "  <tbody>\n",
       "    <tr>\n",
       "      <th>control</th>\n",
       "      <td>1928</td>\n",
       "      <td>145274</td>\n",
       "    </tr>\n",
       "    <tr>\n",
       "      <th>treatment</th>\n",
       "      <td>145311</td>\n",
       "      <td>1965</td>\n",
       "    </tr>\n",
       "  </tbody>\n",
       "</table>\n",
       "</div>"
      ],
      "text/plain": [
       "landing_page  new_page  old_page\n",
       "group                           \n",
       "control           1928    145274\n",
       "treatment       145311      1965"
      ]
     },
     "execution_count": 5,
     "metadata": {},
     "output_type": "execute_result"
    }
   ],
   "source": [
    "pd.crosstab(data['group'], data['landing_page'])"
   ]
  },
  {
   "cell_type": "code",
   "execution_count": 6,
   "id": "0c9cfad4",
   "metadata": {},
   "outputs": [],
   "source": [
    "# The hypothesis:\n",
    "# Null hypothesis: There is no significant statistical difference\n",
    "# between the conversion rate of new and old websites"
   ]
  },
  {
   "cell_type": "code",
   "execution_count": 7,
   "id": "b1f64708",
   "metadata": {},
   "outputs": [
    {
     "name": "stdout",
     "output_type": "stream",
     "text": [
      "Number of users appear multiple times:  3894\n"
     ]
    }
   ],
   "source": [
    "# checking for users appearing multiple times\n",
    "user_counts = data['user_id'].value_counts(ascending=False)\n",
    "multi_users = user_counts[user_counts > 1].count()\n",
    "\n",
    "print(\"Number of users appear multiple times: \", multi_users)"
   ]
  },
  {
   "cell_type": "code",
   "execution_count": 8,
   "id": "5d0bc682",
   "metadata": {},
   "outputs": [],
   "source": [
    "# drop multi_users\n",
    "multi_users_index = user_counts[user_counts > 1].index\n",
    "data = data[~data['user_id'].isin(multi_users_index)]"
   ]
  },
  {
   "cell_type": "code",
   "execution_count": 9,
   "id": "52dcebc1",
   "metadata": {},
   "outputs": [
    {
     "data": {
      "text/html": [
       "<style type=\"text/css\">\n",
       "</style>\n",
       "<table id=\"T_e423d_\">\n",
       "  <thead>\n",
       "    <tr>\n",
       "      <th class=\"blank level0\" >&nbsp;</th>\n",
       "      <th class=\"col_heading level0 col0\" >conversion_rate</th>\n",
       "    </tr>\n",
       "    <tr>\n",
       "      <th class=\"index_name level0\" >group</th>\n",
       "      <th class=\"blank col0\" >&nbsp;</th>\n",
       "    </tr>\n",
       "  </thead>\n",
       "  <tbody>\n",
       "    <tr>\n",
       "      <th id=\"T_e423d_level0_row0\" class=\"row_heading level0 row0\" >control</th>\n",
       "      <td id=\"T_e423d_row0_col0\" class=\"data row0 col0\" >0.120</td>\n",
       "    </tr>\n",
       "    <tr>\n",
       "      <th id=\"T_e423d_level0_row1\" class=\"row_heading level0 row1\" >treatment</th>\n",
       "      <td id=\"T_e423d_row1_col0\" class=\"data row1 col0\" >0.123</td>\n",
       "    </tr>\n",
       "  </tbody>\n",
       "</table>\n"
      ],
      "text/plain": [
       "<pandas.io.formats.style.Styler at 0x7f0737448be0>"
      ]
     },
     "execution_count": 9,
     "metadata": {},
     "output_type": "execute_result"
    }
   ],
   "source": [
    "# visualizing conversion rates of the 2 groups \n",
    "conversion_rates = data.groupby('group')['converted']\n",
    "\n",
    "conversion_rates = conversion_rates.agg([np.mean])\n",
    "\n",
    "conversion_rates.columns = ['conversion_rate']\n",
    "\n",
    "conversion_rates.style.format('{:.3f}')\n",
    "# about 12% for the old webpage, and 12.3% for the new webpage"
   ]
  },
  {
   "cell_type": "code",
   "execution_count": 10,
   "id": "50e56016",
   "metadata": {},
   "outputs": [
    {
     "data": {
      "image/png": "[encoded data removed]",
      "text/plain": [
       "<Figure size 288x288 with 1 Axes>"
      ]
     },
     "metadata": {
      "needs_background": "light"
     },
     "output_type": "display_data"
    }
   ],
   "source": [
    "plt.figure(figsize=(4,4))\n",
    "sns.barplot(x=data['group'], y=data['converted'])\n",
    "plt.ylim(0, 0.15)\n",
    "plt.xlabel('Group')\n",
    "plt.ylabel('Conversion Rate')\n",
    "plt.title('Conversion Rate By Group')\n",
    "plt.show()"
   ]
  },
  {
   "cell_type": "code",
   "execution_count": 11,
   "id": "55334a0c",
   "metadata": {},
   "outputs": [
    {
     "name": "stdout",
     "output_type": "stream",
     "text": [
      "Number of conversion in control group:  17220\n",
      "Total number of control group:  143293\n",
      "Number of conversion in treatment group:  17629\n",
      "Total number of treatment group:  143397\n"
     ]
    }
   ],
   "source": [
    "# Numbr of conversion in each group \n",
    "control_group = data[data['group'] == 'control']['converted']\n",
    "treatment_group = data[data['group'] == 'treatment']['converted']\n",
    "\n",
    "control_count = control_group.sum()\n",
    "control_total = control_group.count()\n",
    "treatment_count = treatment_group.sum()\n",
    "treatment_total = treatment_group.count()\n",
    "\n",
    "print(\"Number of conversion in control group: \", control_count)\n",
    "print(\"Total number of control group: \", control_total)\n",
    "print(\"Number of conversion in treatment group: \", treatment_count)\n",
    "print(\"Total number of treatment group: \", treatment_total)"
   ]
  },
  {
   "cell_type": "code",
   "execution_count": 12,
   "id": "9fc71265",
   "metadata": {},
   "outputs": [
    {
     "data": {
      "image/png": "[encoded data removed]",
      "text/plain": [
       "<Figure size 288x288 with 1 Axes>"
      ]
     },
     "metadata": {
      "needs_background": "light"
     },
     "output_type": "display_data"
    }
   ],
   "source": [
    "# visualize the result\n",
    "plt.figure(figsize=(4,4))\n",
    "\n",
    "group = ['Converted Counts', 'Total Counts']\n",
    "control = [control_count, control_total]\n",
    "treatment = [treatment_count, treatment_total]\n",
    "\n",
    "x_axis = np.arange(len(group))\n",
    "\n",
    "plt.bar(x_axis-0.2, control, width=0.4, label='Control')\n",
    "plt.bar(x_axis+0.2, treatment, width=0.4, label='Treatment')\n",
    "\n",
    "plt.xticks(x_axis, group)\n",
    "plt.legend()\n",
    "plt.show()"
   ]
  },
  {
   "cell_type": "code",
   "execution_count": 13,
   "id": "2c3c0bba",
   "metadata": {},
   "outputs": [
    {
     "data": {
      "text/html": [
       "<style type=\"text/css\">\n",
       "</style>\n",
       "<table id=\"T_ff82f_\">\n",
       "  <thead>\n",
       "    <tr>\n",
       "      <th class=\"blank level0\" >&nbsp;</th>\n",
       "      <th class=\"col_heading level0 col0\" >std_deviation</th>\n",
       "      <th class=\"col_heading level0 col1\" >std_error</th>\n",
       "    </tr>\n",
       "    <tr>\n",
       "      <th class=\"index_name level0\" >group</th>\n",
       "      <th class=\"blank col0\" >&nbsp;</th>\n",
       "      <th class=\"blank col1\" >&nbsp;</th>\n",
       "    </tr>\n",
       "  </thead>\n",
       "  <tbody>\n",
       "    <tr>\n",
       "      <th id=\"T_ff82f_level0_row0\" class=\"row_heading level0 row0\" >control</th>\n",
       "      <td id=\"T_ff82f_row0_col0\" class=\"data row0 col0\" >0.325</td>\n",
       "      <td id=\"T_ff82f_row0_col1\" class=\"data row0 col1\" >0.001</td>\n",
       "    </tr>\n",
       "    <tr>\n",
       "      <th id=\"T_ff82f_level0_row1\" class=\"row_heading level0 row1\" >treatment</th>\n",
       "      <td id=\"T_ff82f_row1_col0\" class=\"data row1 col0\" >0.328</td>\n",
       "      <td id=\"T_ff82f_row1_col1\" class=\"data row1 col1\" >0.001</td>\n",
       "    </tr>\n",
       "  </tbody>\n",
       "</table>\n"
      ],
      "text/plain": [
       "<pandas.io.formats.style.Styler at 0x7f07389a5160>"
      ]
     },
     "execution_count": 13,
     "metadata": {},
     "output_type": "execute_result"
    }
   ],
   "source": [
    "# standard deviation and error of each group\n",
    "std_p = lambda x: np.std(x)\n",
    "se_p = lambda x: stats.sem(x)\n",
    "\n",
    "conv_rate = data.groupby('group')['converted']\n",
    "conv_rate = conv_rate.agg([std_p, se_p])\n",
    "conv_rate.columns = ['std_deviation', 'std_error']\n",
    "conv_rate.style.format('{:.3f}')"
   ]
  },
  {
   "cell_type": "code",
   "execution_count": 14,
   "id": "b85f0a6d",
   "metadata": {},
   "outputs": [],
   "source": [
    "# total_counts = [control_total, treatment_total]\n",
    "# converted_counts = [control_count, treatment_count]\n",
    "\n",
    "# z_stat, p_val = proportions_ztest(converted_counts, nobs=total_counts)\n",
    "# (lower_con, lower_treat), (upper_con, upper_treat) = proportion_confint(converted_counts, nobs=total_counts)\n",
    "\n",
    "# print(f\"z statistics: {z_stat:.3f}\")\n",
    "# print(f\"p value: {p_val:.3f}\")\n",
    "# print(f\"Lower confidence interval:[{lower_con:.3f}, {upper_con:.3f}]\")\n",
    "# print(f\"Upper confidence interval:[{lower_treat:.3f}, {upper_treat:.3f}]\")"
   ]
  },
  {
   "cell_type": "code",
   "execution_count": 104,
   "id": "bd757eb0",
   "metadata": {},
   "outputs": [
    {
     "data": {
      "text/plain": [
       "(-2.265352032780029, 0.02349108538021678)"
      ]
     },
     "execution_count": 104,
     "metadata": {},
     "output_type": "execute_result"
    }
   ],
   "source": [
    "# conducting z-test\n",
    "z_score, p_value = sm.stats.proportions_ztest([control_count, treatment_count], [control_total, treatment_total], alternative='larger')\n",
    "z_score, p_value"
   ]
  },
  {
   "cell_type": "code",
   "execution_count": null,
   "id": "9cd6792b",
   "metadata": {},
   "outputs": [],
   "source": [
    "# The P-value is 0.905 > 0.05 (the default alpha value), \n",
    "# the null hypothesis is accecpted. \n",
    "# The new webpage is not better than the old one"
   ]
  }
 ],
 "metadata": {
  "kernelspec": {
   "display_name": "Python 3 (ipykernel)",
   "language": "python",
   "name": "python3"
  },
  "language_info": {
   "codemirror_mode": {
    "name": "ipython",
    "version": 3
   },
   "file_extension": ".py",
   "mimetype": "text/x-python",
   "name": "python",
   "nbconvert_exporter": "python",
   "pygments_lexer": "ipython3",
   "version": "3.8.10"
  }
 },
 "nbformat": 4,
 "nbformat_minor": 5
}
